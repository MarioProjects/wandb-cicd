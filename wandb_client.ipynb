{
 "cells": [
  {
   "cell_type": "code",
   "execution_count": 1,
   "id": "eff32eb6",
   "metadata": {},
   "outputs": [],
   "source": [
    "import os, wandb"
   ]
  },
  {
   "cell_type": "markdown",
   "id": "db0f63f5",
   "metadata": {},
   "source": [
    "# W&B API for CI/CD"
   ]
  },
  {
   "cell_type": "markdown",
   "id": "5c280b88",
   "metadata": {},
   "source": [
    "The followin are examples of operations you can perform with the `wandb` python client that might be relevant for CI/CD.\n",
    "\n",
    "Pre-requisite: the environment variable `WANDB_API_KEY`"
   ]
  },
  {
   "cell_type": "code",
   "execution_count": 2,
   "id": "8cf45a78",
   "metadata": {},
   "outputs": [],
   "source": [
    "assert os.getenv(\"WANDB_API_KEY\"), \"You must set the WANDB_API_KEY environment variable\""
   ]
  },
  {
   "cell_type": "markdown",
   "id": "14934b7d",
   "metadata": {},
   "source": [
    "## Getting metrics tied to the current production model\n",
    "\n",
    "We can ge the production model from **registry**, then get the metrics via lineage from the associated run."
   ]
  },
  {
   "cell_type": "code",
   "execution_count": 5,
   "id": "7f5ae302",
   "metadata": {},
   "outputs": [
    {
     "name": "stderr",
     "output_type": "stream",
     "text": [
      "\u001b[34m\u001b[1mwandb\u001b[0m: Currently logged in as: \u001b[33mmarioparreno\u001b[0m. Use \u001b[1m`wandb login --relogin`\u001b[0m to force relogin\n"
     ]
    },
    {
     "data": {
      "text/html": [
       "Tracking run with wandb version 0.15.3"
      ],
      "text/plain": [
       "<IPython.core.display.HTML object>"
      ]
     },
     "metadata": {},
     "output_type": "display_data"
    },
    {
     "data": {
      "text/html": [
       "Run data is saved locally in <code>/media/maparla/Almacen/wandb-cicd/wandb/run-20230606_131405-b4c1nepz</code>"
      ],
      "text/plain": [
       "<IPython.core.display.HTML object>"
      ]
     },
     "metadata": {},
     "output_type": "display_data"
    },
    {
     "data": {
      "text/html": [
       "Syncing run <strong><a href='https://wandb.ai/marioparreno/wandb-cicd/runs/b4c1nepz' target=\"_blank\">comfy-brook-1</a></strong> to <a href='https://wandb.ai/marioparreno/wandb-cicd' target=\"_blank\">Weights & Biases</a> (<a href='https://wandb.me/run' target=\"_blank\">docs</a>)<br/>"
      ],
      "text/plain": [
       "<IPython.core.display.HTML object>"
      ]
     },
     "metadata": {},
     "output_type": "display_data"
    },
    {
     "data": {
      "text/html": [
       " View project at <a href='https://wandb.ai/marioparreno/wandb-cicd' target=\"_blank\">https://wandb.ai/marioparreno/wandb-cicd</a>"
      ],
      "text/plain": [
       "<IPython.core.display.HTML object>"
      ]
     },
     "metadata": {},
     "output_type": "display_data"
    },
    {
     "data": {
      "text/html": [
       " View run at <a href='https://wandb.ai/marioparreno/wandb-cicd/runs/b4c1nepz' target=\"_blank\">https://wandb.ai/marioparreno/wandb-cicd/runs/b4c1nepz</a>"
      ],
      "text/plain": [
       "<IPython.core.display.HTML object>"
      ]
     },
     "metadata": {},
     "output_type": "display_data"
    }
   ],
   "source": [
    "run = wandb.init(job_type=\"CI/CD\")\n",
    "path = \"marioparreno/model-registry/\"\n",
    "model_name = \"Neurovias\"\n",
    "version= \"v1\"\n",
    "\n",
    "artifact = run.use_artifact(\n",
    "    f\"{path}{model_name}:{version}\",\n",
    "    type=\"model\"\n",
    ")"
   ]
  },
  {
   "cell_type": "markdown",
   "id": "26f43ba4",
   "metadata": {},
   "source": [
    "Get the run that created the model:"
   ]
  },
  {
   "cell_type": "code",
   "execution_count": 6,
   "id": "307effec",
   "metadata": {},
   "outputs": [],
   "source": [
    "run = artifact.logged_by()"
   ]
  },
  {
   "cell_type": "code",
   "execution_count": null,
   "id": "8ce6b8f1",
   "metadata": {},
   "outputs": [],
   "source": [
    "def get_auc_metrics(run):\n",
    "    return {k:v for k , v in run.summary.items() if \"AUC\" in k}"
   ]
  },
  {
   "cell_type": "code",
   "execution_count": 11,
   "id": "239f703d",
   "metadata": {},
   "outputs": [
    {
     "data": {
      "text/plain": [
       "{'test/AUC_BOH': 0.920010055304173,\n",
       " 'test/AUC_GLT': 0.915335622232174,\n",
       " 'test/AUC_MTA': 0.9909969257795346,\n",
       " 'test/AUC_AHR': 0.9985035109934384,\n",
       " 'test/AUC_EXS': 0.9949795918367348,\n",
       " 'test/AUC_GCO': 0.960379013862081,\n",
       " 'test/AUC_GRB': 0.9222994873003711,\n",
       " 'test/AUC_GRR': 0.9978858350951374,\n",
       " 'test/AUC_PAR': 0.94978256367778}"
      ]
     },
     "execution_count": 11,
     "metadata": {},
     "output_type": "execute_result"
    }
   ],
   "source": [
    "get_auc_metrics(run)"
   ]
  },
  {
   "cell_type": "markdown",
   "id": "4dd451f1",
   "metadata": {},
   "source": [
    "## Getting metrics for a run ID\n",
    "\n",
    "This is useful if you want to get metrics for a particular experiment ID."
   ]
  },
  {
   "cell_type": "code",
   "execution_count": 12,
   "id": "311608ed",
   "metadata": {},
   "outputs": [],
   "source": [
    "run_path = \"marioparreno/Neurovias/gi63l4cc\"\n",
    "api = wandb.Api()\n",
    "run = api.run(run_path)"
   ]
  },
  {
   "cell_type": "code",
   "execution_count": 13,
   "id": "0ac56e56",
   "metadata": {},
   "outputs": [
    {
     "data": {
      "text/plain": [
       "{'test/AUC_BOH': 0.9112116641528406,\n",
       " 'test/AUC_GRR': 0.9897508962220792,\n",
       " 'test/AUC_AHR': 0.9992517554967192,\n",
       " 'test/AUC_GCO': 0.954465695736094,\n",
       " 'test/AUC_PAR': 0.9484779457444608,\n",
       " 'test/AUC_GRB': 0.9266898461901114,\n",
       " 'test/AUC_GLT': 0.9115539632781012}"
      ]
     },
     "execution_count": 13,
     "metadata": {},
     "output_type": "execute_result"
    }
   ],
   "source": [
    "get_auc_metrics(run)"
   ]
  },
  {
   "cell_type": "markdown",
   "id": "40f6a593",
   "metadata": {},
   "source": [
    "## Getting metrics for a run/s with a tag\n",
    "\n",
    "It's better to use the Mongo API instead of downloading and iterating through each run if possible\n",
    "\n",
    "The use case for this is if you wanted to compare a particular run with another run that you have tagged, such a \"baseline\" or \"candidate\""
   ]
  },
  {
   "cell_type": "code",
   "execution_count": 19,
   "id": "9a488e2a",
   "metadata": {},
   "outputs": [],
   "source": [
    "api = wandb.Api()\n",
    "\n",
    "project = \"marioparreno/Neurovias\"\n",
    "tags = [\"baseline\"]\n",
    "\n",
    "candidate_runs = api.runs(\n",
    "    project,\n",
    "    {\"tags\": {\"$in\": tags}}  # this is the Mongo Client\n",
    ")"
   ]
  },
  {
   "cell_type": "code",
   "execution_count": 20,
   "id": "73cf15a4",
   "metadata": {},
   "outputs": [],
   "source": [
    "assert len(candidate_runs) == 1, \"There should be only one baseline run\""
   ]
  },
  {
   "cell_type": "code",
   "execution_count": 21,
   "id": "89d7e7d0",
   "metadata": {},
   "outputs": [
    {
     "name": "stdout",
     "output_type": "stream",
     "text": [
      "peachy-cosmos-196\n"
     ]
    }
   ],
   "source": [
    "for run in candidate_runs:\n",
    "    print(run.name)"
   ]
  },
  {
   "cell_type": "code",
   "execution_count": 22,
   "id": "3166cec6",
   "metadata": {},
   "outputs": [
    {
     "data": {
      "text/plain": [
       "{'test/AUC_GCO': 0.9640463239164766, 'val/f1_macro': 0.7894231081008911, 'test/Analisis': {'_latest_artifact_path': 'wandb-client-artifact://auourfmhohj7uilpln3w5z90j0r48jxquvk5i08gv258sf71ar0pfp48mhdu0s3kw7jdhvpe21p0y4frqppzeijznwgt61cbk9pu03qepli9526tjj2za0ae1gdc41gf:latest/test/Analisis.table.json', 'path': 'media/table/test/Analisis_100_092a9064457eec2d73c7.table.json', 'size': 40015, '_type': 'table-file', 'ncols': 16, 'nrows': 549, 'sha256': '092a9064457eec2d73c7bfc8fac5eefd7c8e31e9f8bc14353a3f1101ff6741cc', 'artifact_path': 'wandb-client-artifact://auourfmhohj7uilpln3w5z90j0r48jxquvk5i08gv258sf71ar0pfp48mhdu0s3kw7jdhvpe21p0y4frqppzeijznwgt61cbk9pu03qepli9526tjj2za0ae1gdc41gf:latest/test/Analisis.table.json'}, 'test/AUC_GLT': 0.906180026869682, 'test/AUC_GRR': 0.9984373563746668, 'train/f1_macro': 0.923873245716095, '_step': 100, '_wandb': {'runtime': 8226}, '_runtime': 8226.600408792496, 'test/ROC': {'nrows': 347, 'sha256': 'e7f469c446b5ce3e619b9d3733b87393b1e3a5e98fc28dc4d8c5f47dca56198a', 'artifact_path': 'wandb-client-artifact://q617mw0jkeo3iid058r9etk64aj6dwr8pzdg7or5xokonokokv7mtxchhmts6ykgph0cdrfsk2mkmofw98f5s99rpm70ywppm2io7by79nux8pft3jjt7r1xn7xzygpt:latest/test/ROC.table.json', '_latest_artifact_path': 'wandb-client-artifact://q617mw0jkeo3iid058r9etk64aj6dwr8pzdg7or5xokonokokv7mtxchhmts6ykgph0cdrfsk2mkmofw98f5s99rpm70ywppm2io7by79nux8pft3jjt7r1xn7xzygpt:latest/test/ROC.table.json', 'path': 'media/table/test/ROC_99_e7f469c446b5ce3e619b.table.json', 'size': 14630, '_type': 'table-file', 'ncols': 4}, 'val/loss': 0.17795604467391968, 'test/AUC_PAR': 0.9465520811762268, '_timestamp': 1675977493.8368058, 'train/loss': 0.05828537419438362, 'test/AUC_AHR': 0.998791297340854, 'test/AUC_BOH': 0.9151332327802916, 'test/AUC_GRB': 0.9286345689197948}"
      ]
     },
     "execution_count": 22,
     "metadata": {},
     "output_type": "execute_result"
    }
   ],
   "source": [
    "candidate_runs[0].summary"
   ]
  },
  {
   "cell_type": "code",
   "execution_count": 16,
   "id": "fc9a217b",
   "metadata": {},
   "outputs": [
    {
     "data": {
      "text/plain": [
       "{}"
      ]
     },
     "execution_count": 16,
     "metadata": {},
     "output_type": "execute_result"
    }
   ],
   "source": [
    "get_auc_metrics(run)"
   ]
  },
  {
   "cell_type": "markdown",
   "id": "ce36de0e",
   "metadata": {},
   "source": [
    "## Promote a model to the registry\n",
    "\n",
    "This is something you could do as part of a CI/CD process"
   ]
  },
  {
   "cell_type": "code",
   "execution_count": 22,
   "id": "fece87b4",
   "metadata": {},
   "outputs": [],
   "source": [
    "path = \"marioparreno/model-registry/\"\n",
    "model_name = \"Neurovias\"\n",
    "path = path + model_name"
   ]
  },
  {
   "cell_type": "code",
   "execution_count": 30,
   "id": "2f3f8710",
   "metadata": {},
   "outputs": [],
   "source": [
    "run_path = \"marioparreno/Neurovias/boqfgfve\"  # this is the run id\n",
    "api = wandb.Api()\n",
    "run = api.run(run_path)"
   ]
  },
  {
   "cell_type": "markdown",
   "id": "6ba17f87",
   "metadata": {},
   "source": [
    "Get the model from the run and promote it to the registry"
   ]
  },
  {
   "cell_type": "code",
   "execution_count": 31,
   "id": "f25e9310",
   "metadata": {},
   "outputs": [],
   "source": [
    "art = [a for a in run.logged_artifacts() if a.type == 'model']"
   ]
  },
  {
   "cell_type": "code",
   "execution_count": 33,
   "id": "733399cf",
   "metadata": {},
   "outputs": [],
   "source": [
    "if art:\n",
    "    assert len(art) == 1, \"More than 1 artifact of type model!\"\n",
    "    art[0].link(path, aliases=[\"production\"])"
   ]
  },
  {
   "cell_type": "markdown",
   "id": "48e56b79",
   "metadata": {},
   "source": [
    "We can see a model in the registry like this:"
   ]
  },
  {
   "cell_type": "code",
   "execution_count": 34,
   "id": "26ce1ec6",
   "metadata": {},
   "outputs": [],
   "source": [
    "api = wandb.Api()\n",
    "versions = api.artifact_versions('model', path)"
   ]
  },
  {
   "cell_type": "code",
   "execution_count": 35,
   "id": "80b86959",
   "metadata": {},
   "outputs": [
    {
     "name": "stdout",
     "output_type": "stream",
     "text": [
      "Model version: v2 with tags: ['latest', 'production']\n",
      "Model version: v1 with tags: []\n",
      "Model version: v0 with tags: ['classification']\n"
     ]
    }
   ],
   "source": [
    "for v in versions:\n",
    "    print(f\"Model version: {v.version} with tags: {v.aliases}\")"
   ]
  },
  {
   "cell_type": "markdown",
   "id": "7bce65b1",
   "metadata": {},
   "source": [
    "## Programatically Reports: Run Comparison\n",
    "\n",
    "Check the [documentation](https://docs.wandb.ai/guides/reports/create-a-report) of programatically reports"
   ]
  },
  {
   "cell_type": "code",
   "execution_count": 36,
   "id": "e180c366",
   "metadata": {},
   "outputs": [
    {
     "name": "stderr",
     "output_type": "stream",
     "text": [
      "\u001b[34m\u001b[1mwandb\u001b[0m: Thanks for trying out the Report API!\n",
      "\u001b[34m\u001b[1mwandb\u001b[0m: For a tutorial, check out https://colab.research.google.com/drive/1CzyJx1nuOS4pdkXa2XPaRQyZdmFmLmXV\n",
      "\u001b[34m\u001b[1mwandb\u001b[0m: \n",
      "\u001b[34m\u001b[1mwandb\u001b[0m: Try out tab completion to see what's available.\n",
      "\u001b[34m\u001b[1mwandb\u001b[0m:   ∟ everything:    `wr.<tab>`\n",
      "\u001b[34m\u001b[1mwandb\u001b[0m:       ∟ panels:    `wr.panels.<tab>`\n",
      "\u001b[34m\u001b[1mwandb\u001b[0m:       ∟ blocks:    `wr.blocks.<tab>`\n",
      "\u001b[34m\u001b[1mwandb\u001b[0m:       ∟ helpers:   `wr.helpers.<tab>`\n",
      "\u001b[34m\u001b[1mwandb\u001b[0m:       ∟ templates: `wr.templates.<tab>`\n",
      "\u001b[34m\u001b[1mwandb\u001b[0m:       \n",
      "\u001b[34m\u001b[1mwandb\u001b[0m: For bugs/feature requests, please create an issue on github: https://github.com/wandb/wandb/issues\n"
     ]
    }
   ],
   "source": [
    "import wandb\n",
    "import wandb.apis.reports as wr"
   ]
  },
  {
   "cell_type": "code",
   "execution_count": 45,
   "id": "11fb6d81",
   "metadata": {},
   "outputs": [],
   "source": [
    "PROJECT = \"Neurovias\"\n",
    "ENTITY = \"marioparreno\""
   ]
  },
  {
   "cell_type": "code",
   "execution_count": 46,
   "id": "baec9182",
   "metadata": {},
   "outputs": [],
   "source": [
    "report = wr.Report(\n",
    "    entity=ENTITY,\n",
    "    project=PROJECT,\n",
    "    title=\"Compare Runs\",\n",
    "    description=\"A demo of comparing runs programatically\"\n",
    ")"
   ]
  },
  {
   "cell_type": "markdown",
   "id": "b4f6e256",
   "metadata": {},
   "source": [
    "We can compare runs like so, and save the report. In Jupyter Notebook, a preview of the report will automatically appear"
   ]
  },
  {
   "cell_type": "code",
   "execution_count": 47,
   "id": "eb969d01",
   "metadata": {},
   "outputs": [],
   "source": [
    "pg = wr.PanelGrid(\n",
    "    runsets=[\n",
    "        wr.Runset(ENTITY, PROJECT, \"Run Comparison\").set_filters_with_python_expr(\n",
    "            \"Name in ['stellar-smoke-224', 'cute-violet-198']\"\n",
    "        )\n",
    "    ],\n",
    "    panels=[\n",
    "        wr.RunComparer(diff_only='split', layout={'w': 24, 'h': 15})\n",
    "    ]\n",
    ")"
   ]
  },
  {
   "cell_type": "code",
   "execution_count": 48,
   "id": "c1877949",
   "metadata": {},
   "outputs": [],
   "source": [
    "report.blocks = report.blocks[:1] + [pg] + report.blocks[1:]"
   ]
  },
  {
   "cell_type": "code",
   "execution_count": 49,
   "id": "45fb337a",
   "metadata": {},
   "outputs": [
    {
     "data": {
      "text/html": [
       "<iframe src='https://wandb.ai/marioparreno/Neurovias/reports/Compare-Runs--Vmlldzo0NTc1MDE5?jupyter=true' style='border:none;width:100%;height:1024px;'></iframe>"
      ],
      "text/plain": [
       "Report(project='Neurovias', entity='marioparreno', title='Compare Runs', description='A demo of comparing runs programatically', width='readable', blocks=[PanelGrid(runsets=[Runset(entity='marioparreno', project='Neurovias', name='Run Comparison', query='', filters={'$or': [{'$and': [{'displayName': {'$in': ['stellar-smoke-224', 'cute-violet-198']}}]}]}, order=['-CreatedTimestamp'])], panels=[RunComparer(diff_only='split')])])"
      ]
     },
     "execution_count": 49,
     "metadata": {},
     "output_type": "execute_result"
    }
   ],
   "source": [
    "report.save()"
   ]
  },
  {
   "cell_type": "code",
   "execution_count": 50,
   "id": "63d88c84",
   "metadata": {},
   "outputs": [
    {
     "data": {
      "text/plain": [
       "'https://wandb.ai/marioparreno/Neurovias/reports/Compare-Runs--Vmlldzo0NTc1MDE5'"
      ]
     },
     "execution_count": 50,
     "metadata": {},
     "output_type": "execute_result"
    }
   ],
   "source": [
    "report.url"
   ]
  }
 ],
 "metadata": {
  "kernelspec": {
   "display_name": "Python 3 (ipykernel)",
   "language": "python",
   "name": "python3"
  },
  "language_info": {
   "codemirror_mode": {
    "name": "ipython",
    "version": 3
   },
   "file_extension": ".py",
   "mimetype": "text/x-python",
   "name": "python",
   "nbconvert_exporter": "python",
   "pygments_lexer": "ipython3",
   "version": "3.8.13"
  }
 },
 "nbformat": 4,
 "nbformat_minor": 5
}
