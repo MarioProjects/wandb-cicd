{
 "cells": [
  {
   "cell_type": "markdown",
   "id": "adf3ea60",
   "metadata": {},
   "source": [
    "# ghapi"
   ]
  },
  {
   "cell_type": "markdown",
   "id": "d23fc19c",
   "metadata": {},
   "source": [
    "[ghapi](https://ghapi.fast.ai/) is a Python client for the GitHub API"
   ]
  },
  {
   "cell_type": "markdown",
   "id": "8c32eee6",
   "metadata": {},
   "source": [
    "## Authentication"
   ]
  },
  {
   "cell_type": "markdown",
   "id": "d015781a",
   "metadata": {},
   "source": [
    "Set the `GITHUB_TOKEN` environment variable"
   ]
  },
  {
   "cell_type": "code",
   "execution_count": 1,
   "id": "e7646673",
   "metadata": {},
   "outputs": [],
   "source": [
    "import os\n",
    "from ghapi.core import GhApi"
   ]
  },
  {
   "cell_type": "code",
   "execution_count": 2,
   "id": "0282ecdf",
   "metadata": {},
   "outputs": [],
   "source": [
    "api = GhApi(owner=\"MarioProjects\", repo=\"wandb-cicd\")"
   ]
  },
  {
   "cell_type": "markdown",
   "id": "fb027c60",
   "metadata": {},
   "source": [
    "## List Pull Requests"
   ]
  },
  {
   "cell_type": "markdown",
   "id": "2d3e8333",
   "metadata": {},
   "source": [
    "I use tab completion:"
   ]
  },
  {
   "cell_type": "code",
   "execution_count": 19,
   "id": "77a4e93b",
   "metadata": {},
   "outputs": [
    {
     "name": "stdout",
     "output_type": "stream",
     "text": [
      "4 Useless Update https://github.com/MarioProjects/wandb-cicd/pull/4\n"
     ]
    }
   ],
   "source": [
    "for pr in api.pulls.list():  # By default shows the open ones\n",
    "    print(pr.number, pr.title, pr.html_url)"
   ]
  },
  {
   "cell_type": "code",
   "execution_count": 20,
   "id": "382f6884",
   "metadata": {},
   "outputs": [
    {
     "name": "stdout",
     "output_type": "stream",
     "text": [
      "3 Wrong Update metric https://github.com/MarioProjects/wandb-cicd/pull/3\n",
      "2 Update number of epochs https://github.com/MarioProjects/wandb-cicd/pull/2\n",
      "1 Update README https://github.com/MarioProjects/wandb-cicd/pull/1\n"
     ]
    }
   ],
   "source": [
    "for pr in api.pulls.list(state=\"closed\"):\n",
    "    print(pr.number, pr.title, pr.html_url)"
   ]
  },
  {
   "cell_type": "markdown",
   "id": "f7428b82",
   "metadata": {},
   "source": [
    "## Make a comment on a pull request"
   ]
  },
  {
   "cell_type": "code",
   "execution_count": 22,
   "id": "730ce911",
   "metadata": {},
   "outputs": [],
   "source": [
    "comment = api.issues.create_comment(\n",
    "    4,  # issue/pr number\n",
    "    \"This is a comment with `ghapi`!\"\n",
    ")"
   ]
  },
  {
   "cell_type": "code",
   "execution_count": 23,
   "id": "53a6f414",
   "metadata": {},
   "outputs": [
    {
     "data": {
      "text/plain": [
       "'https://github.com/MarioProjects/wandb-cicd/pull/4#issuecomment-1576494665'"
      ]
     },
     "execution_count": 23,
     "metadata": {},
     "output_type": "execute_result"
    }
   ],
   "source": [
    "comment.html_url"
   ]
  },
  {
   "cell_type": "markdown",
   "id": "43b8b269",
   "metadata": {},
   "source": [
    "## Label a pull request"
   ]
  },
  {
   "cell_type": "code",
   "execution_count": 26,
   "id": "b20f06cc",
   "metadata": {},
   "outputs": [
    {
     "data": {
      "text/markdown": [
       "```json\n",
       "{ 'color': 'F7C631',\n",
       "  'default': False,\n",
       "  'description': 'W&B demo label',\n",
       "  'id': 5583308648,\n",
       "  'name': 'wandb',\n",
       "  'node_id': 'LA_kwDOJqtC-88AAAABTMqHaA',\n",
       "  'url': 'https://api.github.com/repos/MarioProjects/wandb-cicd/labels/wandb'}\n",
       "```"
      ],
      "text/plain": [
       "{'id': 5583308648,\n",
       " 'node_id': 'LA_kwDOJqtC-88AAAABTMqHaA',\n",
       " 'url': 'https://api.github.com/repos/MarioProjects/wandb-cicd/labels/wandb',\n",
       " 'name': 'wandb',\n",
       " 'color': 'F7C631',\n",
       " 'default': False,\n",
       " 'description': 'W&B demo label'}"
      ]
     },
     "execution_count": 26,
     "metadata": {},
     "output_type": "execute_result"
    }
   ],
   "source": [
    "api.issues.create_label(\n",
    "    'wandb',  # name\n",
    "    'F7C631',  # color\n",
    "    'W&B demo label'  # description\n",
    ")"
   ]
  },
  {
   "cell_type": "code",
   "execution_count": 27,
   "id": "08c472fa",
   "metadata": {},
   "outputs": [
    {
     "data": {
      "text/markdown": [
       "```json\n",
       "{ 'color': '230E80',\n",
       "  'default': False,\n",
       "  'description': 'Test de label creada en ghapi',\n",
       "  'id': 5583312414,\n",
       "  'name': 'hola',\n",
       "  'node_id': 'LA_kwDOJqtC-88AAAABTMqWHg',\n",
       "  'url': 'https://api.github.com/repos/MarioProjects/wandb-cicd/labels/hola'}\n",
       "```"
      ],
      "text/plain": [
       "{'id': 5583312414,\n",
       " 'node_id': 'LA_kwDOJqtC-88AAAABTMqWHg',\n",
       " 'url': 'https://api.github.com/repos/MarioProjects/wandb-cicd/labels/hola',\n",
       " 'name': 'hola',\n",
       " 'color': '230E80',\n",
       " 'default': False,\n",
       " 'description': 'Test de label creada en ghapi'}"
      ]
     },
     "execution_count": 27,
     "metadata": {},
     "output_type": "execute_result"
    }
   ],
   "source": [
    "api.issues.create_label(\n",
    "    'hola',  # name\n",
    "    '230E80',  # color\n",
    "    'Test de label creada en ghapi'  # description\n",
    ")"
   ]
  },
  {
   "cell_type": "code",
   "execution_count": 28,
   "id": "594e4f70",
   "metadata": {},
   "outputs": [],
   "source": [
    "labeling = api.issues.add_labels(\n",
    "    4,  # issue/pr number\n",
    "    labels = ['wandb', 'hola']\n",
    ")"
   ]
  },
  {
   "cell_type": "code",
   "execution_count": 29,
   "id": "e2dc2880",
   "metadata": {},
   "outputs": [
    {
     "data": {
      "text/plain": [
       "(#2) [{'id': 5583308648, 'node_id': 'LA_kwDOJqtC-88AAAABTMqHaA', 'url': 'https://api.github.com/repos/MarioProjects/wandb-cicd/labels/wandb', 'name': 'wandb', 'color': 'F7C631', 'default': False, 'description': 'W&B demo label'},{'id': 5583312414, 'node_id': 'LA_kwDOJqtC-88AAAABTMqWHg', 'url': 'https://api.github.com/repos/MarioProjects/wandb-cicd/labels/hola', 'name': 'hola', 'color': '230E80', 'default': False, 'description': 'Test de label creada en ghapi'}]"
      ]
     },
     "execution_count": 29,
     "metadata": {},
     "output_type": "execute_result"
    }
   ],
   "source": [
    "labeling"
   ]
  },
  {
   "cell_type": "markdown",
   "id": "84899741",
   "metadata": {},
   "source": [
    "## Look at events"
   ]
  },
  {
   "cell_type": "code",
   "execution_count": 3,
   "id": "380a8ea5",
   "metadata": {},
   "outputs": [],
   "source": [
    "from ghapi.event import load_sample_events"
   ]
  },
  {
   "cell_type": "code",
   "execution_count": 4,
   "id": "095be257",
   "metadata": {},
   "outputs": [],
   "source": [
    "evts = load_sample_events()"
   ]
  },
  {
   "cell_type": "code",
   "execution_count": 7,
   "id": "2e314e85",
   "metadata": {},
   "outputs": [
    {
     "data": {
      "text/markdown": [
       "```json\n",
       "{ 'actor': { 'avatar_url': 'https://avatars.githubusercontent.com/u/5951582?',\n",
       "             'display_login': 'jerhard',\n",
       "             'gravatar_id': '',\n",
       "             'id': 5951582,\n",
       "             'login': 'jerhard',\n",
       "             'url': 'https://api.github.com/users/jerhard'},\n",
       "  'created_at': '2020-12-18T15:41:51Z',\n",
       "  'id': 14584635269,\n",
       "  'org': { 'avatar_url': 'https://avatars.githubusercontent.com/u/11064260?',\n",
       "           'gravatar_id': '',\n",
       "           'id': 11064260,\n",
       "           'login': 'ls1intum',\n",
       "           'url': 'https://api.github.com/orgs/ls1intum'},\n",
       "  'payload': { 'action': 'created',\n",
       "               'comment': { 'author_association': 'NONE',\n",
       "                            'body': 'Do you think that spaces (or even white '\n",
       "                                    'space characters in general) at the start '\n",
       "                                    'and end of input string should be '\n",
       "                                    'trimmed?\\r\\n'\n",
       "                                    'A space at the end of an input should '\n",
       "                                    'maybe not be considered a mistake. What '\n",
       "                                    'do you think?',\n",
       "                            'created_at': '2020-12-18T15:41:51Z',\n",
       "                            'html_url': 'https://github.com/ls1intum/Artemis/issues/2570#issuecomment-748163891',\n",
       "                            'id': 748163891,\n",
       "                            'issue_url': 'https://api.github.com/repos/ls1intum/Artemis/issues/2570',\n",
       "                            'node_id': 'MDEyOklzc3VlQ29tbWVudDc0ODE2Mzg5MQ==',\n",
       "                            'performed_via_github_app': None,\n",
       "                            'updated_at': '2020-12-18T15:41:51Z',\n",
       "                            'url': 'https://api.github.com/repos/ls1intum/Artemis/issues/comments/748163891',\n",
       "                            'user': { 'avatar_url': 'https://avatars0.githubusercontent.com/u/5951582?v=4',\n",
       "                                      'events_url': 'https://api.github.com/users/jerhard/events{/privacy}',\n",
       "                                      'followers_url': 'https://api.github.com/users/jerhard/followers',\n",
       "                                      'following_url': 'https://api.github.com/users/jerhard/following{/other_user}',\n",
       "                                      'gists_url': 'https://api.github.com/users/jerhard/gists{/gist_id}',\n",
       "                                      'gravatar_id': '',\n",
       "                                      'html_url': 'https://github.com/jerhard',\n",
       "                                      'id': 5951582,\n",
       "                                      'login': 'jerhard',\n",
       "                                      'node_id': 'MDQ6VXNlcjU5NTE1ODI=',\n",
       "                                      'organizations_url': 'https://api.github.com/users/jerhard/orgs',\n",
       "                                      'received_events_url': 'https://api.github.com/users/jerhard/received_events',\n",
       "                                      'repos_url': 'https://api.github.com/users/jerhard/repos',\n",
       "                                      'site_admin': False,\n",
       "                                      'starred_url': 'https://api.github.com/users/jerhard/starred{/owner}{/repo}',\n",
       "                                      'subscriptions_url': 'https://api.github.com/users/jerhard/subscriptions',\n",
       "                                      'type': 'User',\n",
       "                                      'url': 'https://api.github.com/users/jerhard'}},\n",
       "               'issue': { 'active_lock_reason': None,\n",
       "                          'assignee': None,\n",
       "                          'assignees': [],\n",
       "                          'author_association': 'NONE',\n",
       "                          'body': '### Is your feature request related to a '\n",
       "                                  'problem?\\r\\n'\n",
       "                                  'The feature request is related to '\n",
       "                                  'fill-in-the-blank code exercises. See also '\n",
       "                                  '[the blank spaces '\n",
       "                                  'issue](https://github.com/ls1intum/Artemis/issues/2569).\\r\\n'\n",
       "                                  '\\r\\n'\n",
       "                                  'For code fill-in-the-blank exercises it is '\n",
       "                                  'at times crucial that all characters of a '\n",
       "                                  'proposed solution inside of a text box '\n",
       "                                  'match 100% the actual solution. Especially '\n",
       "                                  'for variable names it can cause damage to '\n",
       "                                  'the automatic corrections if you get points '\n",
       "                                  'for stating wrong variable names, as these '\n",
       "                                  'are sometimes very short and differ by only '\n",
       "                                  'one character.\\r\\n'\n",
       "                                  '\\r\\n'\n",
       "                                  \"### Describe the solution you'd like\\r\\n\"\n",
       "                                  'Above the markdown editor for the short '\n",
       "                                  'answer quiz exercise, you can define the '\n",
       "                                  'scoring type. Maybe here you can state '\n",
       "                                  'another option \"Exact Match\", which yields '\n",
       "                                  'the desired behaviour.',\n",
       "                          'closed_at': None,\n",
       "                          'comments': 0,\n",
       "                          'comments_url': 'https://api.github.com/repos/ls1intum/Artemis/issues/2570/comments',\n",
       "                          'created_at': '2020-12-18T15:26:16Z',\n",
       "                          'events_url': 'https://api.github.com/repos/ls1intum/Artemis/issues/2570/events',\n",
       "                          'html_url': 'https://github.com/ls1intum/Artemis/issues/2570',\n",
       "                          'id': 770972494,\n",
       "                          'labels': [{'id': 1084708801, 'node_id': 'MDU6TGFiZWwxMDg0NzA4ODAx', 'url': 'https://api.github.com/repos/ls1intum/Artemis/labels/feature', 'name': 'feature', 'color': '32e55c', 'default': False, 'description': ''}],\n",
       "                          'labels_url': 'https://api.github.com/repos/ls1intum/Artemis/issues/2570/labels{/name}',\n",
       "                          'locked': False,\n",
       "                          'milestone': None,\n",
       "                          'node_id': 'MDU6SXNzdWU3NzA5NzI0OTQ=',\n",
       "                          'number': 2570,\n",
       "                          'performed_via_github_app': None,\n",
       "                          'repository_url': 'https://api.github.com/repos/ls1intum/Artemis',\n",
       "                          'state': 'open',\n",
       "                          'title': 'Short Answer Quiz: Assign a point for a '\n",
       "                                   'text field *only* when all characters '\n",
       "                                   'match',\n",
       "                          'updated_at': '2020-12-18T15:41:51Z',\n",
       "                          'url': 'https://api.github.com/repos/ls1intum/Artemis/issues/2570',\n",
       "                          'user': { 'avatar_url': 'https://avatars1.githubusercontent.com/u/875050?v=4',\n",
       "                                    'events_url': 'https://api.github.com/users/ghagerer/events{/privacy}',\n",
       "                                    'followers_url': 'https://api.github.com/users/ghagerer/followers',\n",
       "                                    'following_url': 'https://api.github.com/users/ghagerer/following{/other_user}',\n",
       "                                    'gists_url': 'https://api.github.com/users/ghagerer/gists{/gist_id}',\n",
       "                                    'gravatar_id': '',\n",
       "                                    'html_url': 'https://github.com/ghagerer',\n",
       "                                    'id': 875050,\n",
       "                                    'login': 'ghagerer',\n",
       "                                    'node_id': 'MDQ6VXNlcjg3NTA1MA==',\n",
       "                                    'organizations_url': 'https://api.github.com/users/ghagerer/orgs',\n",
       "                                    'received_events_url': 'https://api.github.com/users/ghagerer/received_events',\n",
       "                                    'repos_url': 'https://api.github.com/users/ghagerer/repos',\n",
       "                                    'site_admin': False,\n",
       "                                    'starred_url': 'https://api.github.com/users/ghagerer/starred{/owner}{/repo}',\n",
       "                                    'subscriptions_url': 'https://api.github.com/users/ghagerer/subscriptions',\n",
       "                                    'type': 'User',\n",
       "                                    'url': 'https://api.github.com/users/ghagerer'}}},\n",
       "  'public': True,\n",
       "  'repo': { 'id': 69562331,\n",
       "            'name': 'ls1intum/Artemis',\n",
       "            'url': 'https://api.github.com/repos/ls1intum/Artemis'},\n",
       "  'type': 'IssueCommentEvent'}\n",
       "```"
      ],
      "text/plain": [
       "{'id': 14584635269,\n",
       " 'type': 'IssueCommentEvent',\n",
       " 'actor': {'id': 5951582,\n",
       "  'login': 'jerhard',\n",
       "  'display_login': 'jerhard',\n",
       "  'gravatar_id': '',\n",
       "  'url': 'https://api.github.com/users/jerhard',\n",
       "  'avatar_url': 'https://avatars.githubusercontent.com/u/5951582?'},\n",
       " 'repo': {'id': 69562331,\n",
       "  'name': 'ls1intum/Artemis',\n",
       "  'url': 'https://api.github.com/repos/ls1intum/Artemis'},\n",
       " 'payload': {'action': 'created',\n",
       "  'issue': {'url': 'https://api.github.com/repos/ls1intum/Artemis/issues/2570',\n",
       "   'repository_url': 'https://api.github.com/repos/ls1intum/Artemis',\n",
       "   'labels_url': 'https://api.github.com/repos/ls1intum/Artemis/issues/2570/labels{/name}',\n",
       "   'comments_url': 'https://api.github.com/repos/ls1intum/Artemis/issues/2570/comments',\n",
       "   'events_url': 'https://api.github.com/repos/ls1intum/Artemis/issues/2570/events',\n",
       "   'html_url': 'https://github.com/ls1intum/Artemis/issues/2570',\n",
       "   'id': 770972494,\n",
       "   'node_id': 'MDU6SXNzdWU3NzA5NzI0OTQ=',\n",
       "   'number': 2570,\n",
       "   'title': 'Short Answer Quiz: Assign a point for a text field *only* when all characters match',\n",
       "   'user': {'login': 'ghagerer',\n",
       "    'id': 875050,\n",
       "    'node_id': 'MDQ6VXNlcjg3NTA1MA==',\n",
       "    'avatar_url': 'https://avatars1.githubusercontent.com/u/875050?v=4',\n",
       "    'gravatar_id': '',\n",
       "    'url': 'https://api.github.com/users/ghagerer',\n",
       "    'html_url': 'https://github.com/ghagerer',\n",
       "    'followers_url': 'https://api.github.com/users/ghagerer/followers',\n",
       "    'following_url': 'https://api.github.com/users/ghagerer/following{/other_user}',\n",
       "    'gists_url': 'https://api.github.com/users/ghagerer/gists{/gist_id}',\n",
       "    'starred_url': 'https://api.github.com/users/ghagerer/starred{/owner}{/repo}',\n",
       "    'subscriptions_url': 'https://api.github.com/users/ghagerer/subscriptions',\n",
       "    'organizations_url': 'https://api.github.com/users/ghagerer/orgs',\n",
       "    'repos_url': 'https://api.github.com/users/ghagerer/repos',\n",
       "    'events_url': 'https://api.github.com/users/ghagerer/events{/privacy}',\n",
       "    'received_events_url': 'https://api.github.com/users/ghagerer/received_events',\n",
       "    'type': 'User',\n",
       "    'site_admin': False},\n",
       "   'labels': (#1) [{'id': 1084708801, 'node_id': 'MDU6TGFiZWwxMDg0NzA4ODAx', 'url': 'https://api.github.com/repos/ls1intum/Artemis/labels/feature', 'name': 'feature', 'color': '32e55c', 'default': False, 'description': ''}],\n",
       "   'state': 'open',\n",
       "   'locked': False,\n",
       "   'assignee': None,\n",
       "   'assignees': (#0) [],\n",
       "   'milestone': None,\n",
       "   'comments': 0,\n",
       "   'created_at': '2020-12-18T15:26:16Z',\n",
       "   'updated_at': '2020-12-18T15:41:51Z',\n",
       "   'closed_at': None,\n",
       "   'author_association': 'NONE',\n",
       "   'active_lock_reason': None,\n",
       "   'body': '### Is your feature request related to a problem?\\r\\nThe feature request is related to fill-in-the-blank code exercises. See also [the blank spaces issue](https://github.com/ls1intum/Artemis/issues/2569).\\r\\n\\r\\nFor code fill-in-the-blank exercises it is at times crucial that all characters of a proposed solution inside of a text box match 100% the actual solution. Especially for variable names it can cause damage to the automatic corrections if you get points for stating wrong variable names, as these are sometimes very short and differ by only one character.\\r\\n\\r\\n### Describe the solution you\\'d like\\r\\nAbove the markdown editor for the short answer quiz exercise, you can define the scoring type. Maybe here you can state another option \"Exact Match\", which yields the desired behaviour.',\n",
       "   'performed_via_github_app': None},\n",
       "  'comment': {'url': 'https://api.github.com/repos/ls1intum/Artemis/issues/comments/748163891',\n",
       "   'html_url': 'https://github.com/ls1intum/Artemis/issues/2570#issuecomment-748163891',\n",
       "   'issue_url': 'https://api.github.com/repos/ls1intum/Artemis/issues/2570',\n",
       "   'id': 748163891,\n",
       "   'node_id': 'MDEyOklzc3VlQ29tbWVudDc0ODE2Mzg5MQ==',\n",
       "   'user': {'login': 'jerhard',\n",
       "    'id': 5951582,\n",
       "    'node_id': 'MDQ6VXNlcjU5NTE1ODI=',\n",
       "    'avatar_url': 'https://avatars0.githubusercontent.com/u/5951582?v=4',\n",
       "    'gravatar_id': '',\n",
       "    'url': 'https://api.github.com/users/jerhard',\n",
       "    'html_url': 'https://github.com/jerhard',\n",
       "    'followers_url': 'https://api.github.com/users/jerhard/followers',\n",
       "    'following_url': 'https://api.github.com/users/jerhard/following{/other_user}',\n",
       "    'gists_url': 'https://api.github.com/users/jerhard/gists{/gist_id}',\n",
       "    'starred_url': 'https://api.github.com/users/jerhard/starred{/owner}{/repo}',\n",
       "    'subscriptions_url': 'https://api.github.com/users/jerhard/subscriptions',\n",
       "    'organizations_url': 'https://api.github.com/users/jerhard/orgs',\n",
       "    'repos_url': 'https://api.github.com/users/jerhard/repos',\n",
       "    'events_url': 'https://api.github.com/users/jerhard/events{/privacy}',\n",
       "    'received_events_url': 'https://api.github.com/users/jerhard/received_events',\n",
       "    'type': 'User',\n",
       "    'site_admin': False},\n",
       "   'created_at': '2020-12-18T15:41:51Z',\n",
       "   'updated_at': '2020-12-18T15:41:51Z',\n",
       "   'author_association': 'NONE',\n",
       "   'body': 'Do you think that spaces (or even white space characters in general) at the start and end of input string should be trimmed?\\r\\nA space at the end of an input should maybe not be considered a mistake. What do you think?',\n",
       "   'performed_via_github_app': None}},\n",
       " 'public': True,\n",
       " 'created_at': '2020-12-18T15:41:51Z',\n",
       " 'org': {'id': 11064260,\n",
       "  'login': 'ls1intum',\n",
       "  'gravatar_id': '',\n",
       "  'url': 'https://api.github.com/orgs/ls1intum',\n",
       "  'avatar_url': 'https://avatars.githubusercontent.com/u/11064260?'}}"
      ]
     },
     "execution_count": 7,
     "metadata": {},
     "output_type": "execute_result"
    }
   ],
   "source": [
    "comments = [e for e in evts if e.full_type == 'IssueCommentEvent_created']\n",
    "comments[0]"
   ]
  },
  {
   "cell_type": "code",
   "execution_count": null,
   "id": "1a472620",
   "metadata": {},
   "outputs": [],
   "source": []
  }
 ],
 "metadata": {
  "kernelspec": {
   "display_name": "Python 3 (ipykernel)",
   "language": "python",
   "name": "python3"
  },
  "language_info": {
   "codemirror_mode": {
    "name": "ipython",
    "version": 3
   },
   "file_extension": ".py",
   "mimetype": "text/x-python",
   "name": "python",
   "nbconvert_exporter": "python",
   "pygments_lexer": "ipython3",
   "version": "3.8.13"
  }
 },
 "nbformat": 4,
 "nbformat_minor": 5
}
