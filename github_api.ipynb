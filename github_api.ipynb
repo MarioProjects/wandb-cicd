{
 "cells": [
  {
   "cell_type": "markdown",
   "id": "adf3ea60",
   "metadata": {},
   "source": [
    "# ghapi"
   ]
  },
  {
   "cell_type": "markdown",
   "id": "d23fc19c",
   "metadata": {},
   "source": [
    "[ghapi](https://ghapi.fast.ai/) is a Python client for the GitHub API"
   ]
  },
  {
   "cell_type": "markdown",
   "id": "8c32eee6",
   "metadata": {},
   "source": [
    "## Authentication"
   ]
  },
  {
   "cell_type": "markdown",
   "id": "d015781a",
   "metadata": {},
   "source": [
    "Set the `GITHUB_TOKEN` environment variable"
   ]
  },
  {
   "cell_type": "code",
   "execution_count": 2,
   "id": "e7646673",
   "metadata": {},
   "outputs": [],
   "source": [
    "import os\n",
    "from ghapi.core import GhApi"
   ]
  },
  {
   "cell_type": "code",
   "execution_count": 14,
   "id": "0282ecdf",
   "metadata": {},
   "outputs": [],
   "source": [
    "api = GhApi(owner=\"MarioProjects\", repo=\"wandb-cicd\")"
   ]
  },
  {
   "cell_type": "markdown",
   "id": "fb027c60",
   "metadata": {},
   "source": [
    "## List Pull Requests"
   ]
  },
  {
   "cell_type": "markdown",
   "id": "2d3e8333",
   "metadata": {},
   "source": [
    "I use tab completion:"
   ]
  },
  {
   "cell_type": "code",
   "execution_count": 19,
   "id": "77a4e93b",
   "metadata": {},
   "outputs": [
    {
     "name": "stdout",
     "output_type": "stream",
     "text": [
      "4 Useless Update https://github.com/MarioProjects/wandb-cicd/pull/4\n"
     ]
    }
   ],
   "source": [
    "for pr in api.pulls.list():  # By default shows the open ones\n",
    "    print(pr.number, pr.title, pr.html_url)"
   ]
  },
  {
   "cell_type": "code",
   "execution_count": 20,
   "id": "382f6884",
   "metadata": {},
   "outputs": [
    {
     "name": "stdout",
     "output_type": "stream",
     "text": [
      "3 Wrong Update metric https://github.com/MarioProjects/wandb-cicd/pull/3\n",
      "2 Update number of epochs https://github.com/MarioProjects/wandb-cicd/pull/2\n",
      "1 Update README https://github.com/MarioProjects/wandb-cicd/pull/1\n"
     ]
    }
   ],
   "source": [
    "for pr in api.pulls.list(state=\"closed\"):\n",
    "    print(pr.number, pr.title, pr.html_url)"
   ]
  },
  {
   "cell_type": "markdown",
   "id": "f7428b82",
   "metadata": {},
   "source": [
    "## Make a comment on a pull request"
   ]
  },
  {
   "cell_type": "code",
   "execution_count": 22,
   "id": "730ce911",
   "metadata": {},
   "outputs": [],
   "source": [
    "comment = api.issues.create_comment(\n",
    "    4,  # issue/pr number\n",
    "    \"This is a comment with `ghapi`!\"\n",
    ")"
   ]
  },
  {
   "cell_type": "code",
   "execution_count": 23,
   "id": "53a6f414",
   "metadata": {},
   "outputs": [
    {
     "data": {
      "text/plain": [
       "'https://github.com/MarioProjects/wandb-cicd/pull/4#issuecomment-1576494665'"
      ]
     },
     "execution_count": 23,
     "metadata": {},
     "output_type": "execute_result"
    }
   ],
   "source": [
    "comment.html_url"
   ]
  },
  {
   "cell_type": "markdown",
   "id": "43b8b269",
   "metadata": {},
   "source": [
    "## Label a pull request"
   ]
  },
  {
   "cell_type": "code",
   "execution_count": 26,
   "id": "b20f06cc",
   "metadata": {},
   "outputs": [
    {
     "data": {
      "text/markdown": [
       "```json\n",
       "{ 'color': 'F7C631',\n",
       "  'default': False,\n",
       "  'description': 'W&B demo label',\n",
       "  'id': 5583308648,\n",
       "  'name': 'wandb',\n",
       "  'node_id': 'LA_kwDOJqtC-88AAAABTMqHaA',\n",
       "  'url': 'https://api.github.com/repos/MarioProjects/wandb-cicd/labels/wandb'}\n",
       "```"
      ],
      "text/plain": [
       "{'id': 5583308648,\n",
       " 'node_id': 'LA_kwDOJqtC-88AAAABTMqHaA',\n",
       " 'url': 'https://api.github.com/repos/MarioProjects/wandb-cicd/labels/wandb',\n",
       " 'name': 'wandb',\n",
       " 'color': 'F7C631',\n",
       " 'default': False,\n",
       " 'description': 'W&B demo label'}"
      ]
     },
     "execution_count": 26,
     "metadata": {},
     "output_type": "execute_result"
    }
   ],
   "source": [
    "api.issues.create_label(\n",
    "    'wandb',  # name\n",
    "    'F7C631',  # color\n",
    "    'W&B demo label'  # description\n",
    ")"
   ]
  },
  {
   "cell_type": "code",
   "execution_count": 27,
   "id": "08c472fa",
   "metadata": {},
   "outputs": [
    {
     "data": {
      "text/markdown": [
       "```json\n",
       "{ 'color': '230E80',\n",
       "  'default': False,\n",
       "  'description': 'Test de label creada en ghapi',\n",
       "  'id': 5583312414,\n",
       "  'name': 'hola',\n",
       "  'node_id': 'LA_kwDOJqtC-88AAAABTMqWHg',\n",
       "  'url': 'https://api.github.com/repos/MarioProjects/wandb-cicd/labels/hola'}\n",
       "```"
      ],
      "text/plain": [
       "{'id': 5583312414,\n",
       " 'node_id': 'LA_kwDOJqtC-88AAAABTMqWHg',\n",
       " 'url': 'https://api.github.com/repos/MarioProjects/wandb-cicd/labels/hola',\n",
       " 'name': 'hola',\n",
       " 'color': '230E80',\n",
       " 'default': False,\n",
       " 'description': 'Test de label creada en ghapi'}"
      ]
     },
     "execution_count": 27,
     "metadata": {},
     "output_type": "execute_result"
    }
   ],
   "source": [
    "api.issues.create_label(\n",
    "    'hola',  # name\n",
    "    '230E80',  # color\n",
    "    'Test de label creada en ghapi'  # description\n",
    ")"
   ]
  },
  {
   "cell_type": "code",
   "execution_count": 28,
   "id": "594e4f70",
   "metadata": {},
   "outputs": [],
   "source": [
    "labeling = api.issues.add_labels(\n",
    "    4,  # issue/pr number\n",
    "    labels = ['wandb', 'hola']\n",
    ")"
   ]
  },
  {
   "cell_type": "code",
   "execution_count": 29,
   "id": "e2dc2880",
   "metadata": {},
   "outputs": [
    {
     "data": {
      "text/plain": [
       "(#2) [{'id': 5583308648, 'node_id': 'LA_kwDOJqtC-88AAAABTMqHaA', 'url': 'https://api.github.com/repos/MarioProjects/wandb-cicd/labels/wandb', 'name': 'wandb', 'color': 'F7C631', 'default': False, 'description': 'W&B demo label'},{'id': 5583312414, 'node_id': 'LA_kwDOJqtC-88AAAABTMqWHg', 'url': 'https://api.github.com/repos/MarioProjects/wandb-cicd/labels/hola', 'name': 'hola', 'color': '230E80', 'default': False, 'description': 'Test de label creada en ghapi'}]"
      ]
     },
     "execution_count": 29,
     "metadata": {},
     "output_type": "execute_result"
    }
   ],
   "source": [
    "labeling"
   ]
  }
 ],
 "metadata": {
  "kernelspec": {
   "display_name": "Python 3 (ipykernel)",
   "language": "python",
   "name": "python3"
  },
  "language_info": {
   "codemirror_mode": {
    "name": "ipython",
    "version": 3
   },
   "file_extension": ".py",
   "mimetype": "text/x-python",
   "name": "python",
   "nbconvert_exporter": "python",
   "pygments_lexer": "ipython3",
   "version": "3.9.16"
  }
 },
 "nbformat": 4,
 "nbformat_minor": 5
}
